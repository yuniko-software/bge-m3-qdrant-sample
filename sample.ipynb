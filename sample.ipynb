{
 "cells": [
  {
   "cell_type": "markdown",
   "id": "fe8c6857",
   "metadata": {},
   "source": [
    "## Step 1: Pull and Run Qdrant Docker Image"
   ]
  },
  {
   "cell_type": "code",
   "execution_count": null,
   "id": "91a2f7b6",
   "metadata": {},
   "outputs": [],
   "source": [
    "!docker run -d --name qdrant-db -p 6333:6333 -p 6334:6334 qdrant/qdrant:latest"
   ]
  },
  {
   "cell_type": "markdown",
   "id": "0481b2e9",
   "metadata": {},
   "source": [
    "## Step 2: Install Required Python Packages"
   ]
  },
  {
   "cell_type": "code",
   "execution_count": null,
   "id": "9554b374",
   "metadata": {},
   "outputs": [],
   "source": [
    "%pip install -U transformers FlagEmbedding accelerate\n",
    "%pip install pandas\n",
    "%pip install qdrant_client"
   ]
  },
  {
   "cell_type": "markdown",
   "id": "c16dcb3c",
   "metadata": {},
   "source": [
    "## Step 3: Load Products Dataset"
   ]
  },
  {
   "cell_type": "code",
   "execution_count": 52,
   "id": "ac1a6ab6",
   "metadata": {},
   "outputs": [
    {
     "name": "stdout",
     "output_type": "stream",
     "text": [
      "{\n",
      "  \"Id\": \"d2559c95-bd28-49d8-b53a-538c34a25bcb\",\n",
      "  \"Name\": \"Saucony Men's Kinvara 13 Running Shoe\",\n",
      "  \"Description\": \"When it comes to lightweight speed, nothing crushes the competition like the Kinvara. And this just so happens to be our lightest one yet. With more speed contouring and its signature flexible feel, it pushes you forward without holding anything back. These are the shoes you\\u2019ll do big things in.\",\n",
      "  \"Price\": 600.93,\n",
      "  \"PriceCurrency\": \"USD\",\n",
      "  \"SupplyAbility\": 396,\n",
      "  \"MinimumOrder\": 574\n",
      "}\n",
      "Total products: 751\n"
     ]
    }
   ],
   "source": [
    "import pandas as pd\n",
    "import json\n",
    "\n",
    "products_df = pd.read_csv('products.csv', sep='|')\n",
    "\n",
    "products_json = products_df.to_dict(orient='records')\n",
    "\n",
    "# Print the first product as JSON\n",
    "print(json.dumps(products_json[0], indent=2))\n",
    "\n",
    "print(f\"Total products: {len(products_json)}\")"
   ]
  },
  {
   "cell_type": "markdown",
   "id": "0c171627",
   "metadata": {},
   "source": [
    "## Step 4: Initialize the BGE-M3 model"
   ]
  },
  {
   "cell_type": "code",
   "execution_count": 3,
   "id": "6b6d1061",
   "metadata": {},
   "outputs": [
    {
     "name": "stderr",
     "output_type": "stream",
     "text": [
      "/Users/demid/Library/Python/3.9/lib/python/site-packages/urllib3/__init__.py:35: NotOpenSSLWarning: urllib3 v2 only supports OpenSSL 1.1.1+, currently the 'ssl' module is compiled with 'LibreSSL 2.8.3'. See: https://github.com/urllib3/urllib3/issues/3020\n",
      "  warnings.warn(\n"
     ]
    },
    {
     "data": {
      "application/vnd.jupyter.widget-view+json": {
       "model_id": "88e03345339f444281fe95805fa92355",
       "version_major": 2,
       "version_minor": 0
      },
      "text/plain": [
       "Fetching 30 files:   0%|          | 0/30 [00:00<?, ?it/s]"
      ]
     },
     "metadata": {},
     "output_type": "display_data"
    }
   ],
   "source": [
    "from FlagEmbedding import BGEM3FlagModel\n",
    "\n",
    "model = BGEM3FlagModel('BAAI/bge-m3', use_fp16=True)"
   ]
  },
  {
   "cell_type": "markdown",
   "id": "bf0becaf",
   "metadata": {},
   "source": [
    "## Step 5: Calculate Embeddings for Product"
   ]
  },
  {
   "cell_type": "code",
   "execution_count": 53,
   "id": "d8948d84",
   "metadata": {},
   "outputs": [
    {
     "name": "stdout",
     "output_type": "stream",
     "text": [
      "\n",
      "Formatted product text:\n",
      "Product: Saucony Men's Kinvara 13 Running Shoe\n",
      "Description: When it comes to lightweight speed, nothing crushes the competition like the Kinvara. And this just so happens to be our lightest one yet. With more speed contouring and its signature flexible feel, it pushes you forward without holding anything back. These are the shoes you’ll do big things in.\n"
     ]
    }
   ],
   "source": [
    "# Let's take a single product as an example\n",
    "sample_product = products_df.iloc[0]\n",
    "\n",
    "def create_product_text(product):\n",
    "    return f\"Product: {product['Name']}\\nDescription: {product['Description']}\"\n",
    "\n",
    "product_text = create_product_text(sample_product)\n",
    "print(\"\\nFormatted product text:\")\n",
    "print(product_text)\n",
    "\n",
    "# Generate all three types of embeddings\n",
    "output = model.encode(\n",
    "    [product_text], \n",
    "    return_dense=True,\n",
    "    return_sparse=True,\n",
    "    return_colbert_vecs=True\n",
    ")\n",
    "\n",
    "dense_vector = output['dense_vecs'][0]\n",
    "sparse_weights = output['lexical_weights'][0]\n",
    "colbert_vectors = output['colbert_vecs'][0]"
   ]
  },
  {
   "cell_type": "markdown",
   "id": "97b7ebf1",
   "metadata": {},
   "source": [
    "### Displaying dense vectors"
   ]
  },
  {
   "cell_type": "code",
   "execution_count": 54,
   "id": "e906d9e2",
   "metadata": {},
   "outputs": [
    {
     "name": "stdout",
     "output_type": "stream",
     "text": [
      "Dense vector information:\n",
      "Shape: (1024,)\n",
      "First 5 elements: [-0.02016  0.02016 -0.0438   0.02206 -0.01973]\n"
     ]
    }
   ],
   "source": [
    "print(\"Dense vector information:\")\n",
    "print(f\"Shape: {dense_vector.shape}\")\n",
    "print(f\"First 5 elements: {dense_vector[:5]}\")"
   ]
  },
  {
   "cell_type": "markdown",
   "id": "9c9f1189",
   "metadata": {},
   "source": [
    "### Displaying sparse vectors"
   ]
  },
  {
   "cell_type": "code",
   "execution_count": 55,
   "id": "6c039db2",
   "metadata": {},
   "outputs": [
    {
     "name": "stdout",
     "output_type": "stream",
     "text": [
      "Sparse vector information:\n",
      "Number of tokens with weights: 57\n",
      "\n",
      "Top 10 tokens by weight:\n",
      "  vara: 0.3137\n",
      "  shoes: 0.2365\n",
      "  13: 0.2229\n",
      "  weight: 0.2102\n",
      "  speed: 0.2094\n",
      "  y: 0.2017\n",
      "  Product: 0.1993\n",
      "  Sho: 0.1898\n",
      "  Kin: 0.1849\n",
      "  Sau: 0.1790\n"
     ]
    }
   ],
   "source": [
    "print(\"Sparse vector information:\")\n",
    "print(f\"Number of tokens with weights: {len(sparse_weights)}\")\n",
    "\n",
    "# Convert token IDs to readable tokens\n",
    "token_map = model.convert_id_to_token([sparse_weights])\n",
    "\n",
    "# Display top tokens by weight\n",
    "print(\"\\nTop 10 tokens by weight:\")\n",
    "for token, weight in sorted(token_map.items(), key=lambda x: float(x[1]), reverse=True)[:10]:\n",
    "    print(f\"  {token}: {float(weight):.4f}\")"
   ]
  },
  {
   "cell_type": "markdown",
   "id": "bf3624dc",
   "metadata": {},
   "source": [
    "### Displaying ColBERT vectors"
   ]
  },
  {
   "cell_type": "code",
   "execution_count": 56,
   "id": "8c397bad",
   "metadata": {},
   "outputs": [
    {
     "name": "stdout",
     "output_type": "stream",
     "text": [
      "ColBERT vectors: (82, 1024) (tokens × dimensions)\n",
      "\n",
      "First 5 token vectors (first 3 dimensions each):\n",
      "  Token 0: [-0.015277110040187836, -0.05877283960580826, 0.0036948397755622864]\n",
      "  Token 1: [-0.035025328397750854, -0.05892220884561539, -0.020987864583730698]\n",
      "  Token 2: [-0.00875769555568695, -0.03164244443178177, -0.007193501573055983]\n",
      "  Token 3: [-0.04171895608305931, -0.015494350343942642, -0.004048152826726437]\n",
      "  Token 4: [-0.052237991243600845, -0.007237554062157869, 0.0014343017246574163]\n"
     ]
    }
   ],
   "source": [
    "print(f\"ColBERT vectors: {colbert_vectors.shape} (tokens × dimensions)\")\n",
    "print(\"\\nFirst 5 token vectors (first 3 dimensions each):\")\n",
    "for i in range(min(5, len(colbert_vectors))):\n",
    "    print(f\"  Token {i}: {colbert_vectors[i][:3].tolist()}\")"
   ]
  },
  {
   "cell_type": "markdown",
   "id": "663d09f8",
   "metadata": {},
   "source": [
    "## Step 5: Calculate Embeddings for all products"
   ]
  },
  {
   "cell_type": "code",
   "execution_count": null,
   "id": "e2962585",
   "metadata": {},
   "outputs": [
    {
     "data": {
      "application/vnd.jupyter.widget-view+json": {
       "model_id": "b43882c5842c4ee280009a2c1a164fd3",
       "version_major": 2,
       "version_minor": 0
      },
      "text/plain": [
       "  0%|          | 0/751 [00:00<?, ?it/s]"
      ]
     },
     "metadata": {},
     "output_type": "display_data"
    },
    {
     "name": "stdout",
     "output_type": "stream",
     "text": [
      "Generated embeddings for 751 products\n"
     ]
    }
   ],
   "source": [
    "from tqdm.notebook import tqdm\n",
    "\n",
    "all_product_embeddings = []\n",
    "\n",
    "# Process all products with progress bar\n",
    "for product in tqdm(products_json):\n",
    "    # Format product text\n",
    "    product_text = create_product_text(product)\n",
    "\n",
    "    output = model.encode(\n",
    "        [product_text], \n",
    "        return_dense=True,\n",
    "        return_sparse=True,\n",
    "        return_colbert_vecs=True\n",
    "    )\n",
    "\n",
    "    product_embedding = {\n",
    "        \"product\": product,\n",
    "        \"dense_vector\": output['dense_vecs'][0],\n",
    "        \"sparse_weights\": output['lexical_weights'][0],\n",
    "        \"colbert_vectors\": output['colbert_vecs'][0]\n",
    "    }\n",
    "    \n",
    "    all_product_embeddings.append(product_embedding)\n",
    "\n",
    "print(f\"Generated embeddings for {len(all_product_embeddings)} products\")"
   ]
  },
  {
   "cell_type": "markdown",
   "id": "deb046d8",
   "metadata": {},
   "source": [
    "## Step 6: Create Qdrant collection for dense, sparse and multivectors"
   ]
  },
  {
   "cell_type": "code",
   "execution_count": null,
   "id": "9b62cad8",
   "metadata": {},
   "outputs": [],
   "source": [
    "from qdrant_client import QdrantClient, models\n",
    "\n",
    "client = QdrantClient(\"localhost\", port=6333)  # Adjust host/port as needed\n",
    "\n",
    "# Create collection with dense vectors, sparse vectors, and ColBERT multi-vectors\n",
    "client.create_collection(\n",
    "    collection_name=\"products\",\n",
    "    vectors_config={\n",
    "        \"dense\": models.VectorParams(\n",
    "            size=1024,\n",
    "            distance=models.Distance.COSINE\n",
    "        ),\n",
    "        \"colbert\": models.VectorParams(\n",
    "            size=1024,\n",
    "            distance=models.Distance.COSINE,\n",
    "            multivector_config=models.MultiVectorConfig(\n",
    "                comparator=models.MultiVectorComparator.MAX_SIM\n",
    "            ),\n",
    "        )\n",
    "    },\n",
    "    sparse_vectors_config={\n",
    "        \"sparse\": models.SparseVectorParams(\n",
    "            index=models.SparseIndexParams(\n",
    "                on_disk=True\n",
    "            )\n",
    "        )\n",
    "    },\n",
    ")\n",
    "\n",
    "print(\"Collection 'products' created successfully\")"
   ]
  },
  {
   "cell_type": "markdown",
   "id": "d5003f69",
   "metadata": {},
   "source": [
    "## Step 7: Insert embeddings in qdrant collection"
   ]
  },
  {
   "cell_type": "markdown",
   "id": "ade5d027",
   "metadata": {},
   "source": [
    "### Function to create a qdrant sparse vector from bge-m3 output"
   ]
  },
  {
   "cell_type": "code",
   "execution_count": 27,
   "id": "abf3cf13",
   "metadata": {},
   "outputs": [],
   "source": [
    "def create_sparse_vector(sparse_data):\n",
    "    sparse_indices = []\n",
    "    sparse_values = []\n",
    "    \n",
    "    for key, value in sparse_data.items():\n",
    "        # Only process positive values\n",
    "        if float(value) > 0:\n",
    "            # Handle string keys\n",
    "            if isinstance(key, str):\n",
    "                if key.isdigit():\n",
    "                    key = int(key)\n",
    "                else:\n",
    "                    continue\n",
    "                \n",
    "            sparse_indices.append(key)\n",
    "            sparse_values.append(float(value))\n",
    "    \n",
    "    return models.SparseVector(\n",
    "        indices=sparse_indices,\n",
    "        values=sparse_values\n",
    "    )"
   ]
  },
  {
   "cell_type": "markdown",
   "id": "5861a6d5",
   "metadata": {},
   "source": [
    "### Inserting products in collection"
   ]
  },
  {
   "cell_type": "code",
   "execution_count": null,
   "id": "21a0be1e",
   "metadata": {},
   "outputs": [
    {
     "name": "stderr",
     "output_type": "stream",
     "text": [
      "100%|██████████| 751/751 [01:43<00:00,  7.27it/s]"
     ]
    },
    {
     "name": "stdout",
     "output_type": "stream",
     "text": [
      "Successfully inserted 751 products into the 'products' collection\n"
     ]
    },
    {
     "name": "stderr",
     "output_type": "stream",
     "text": [
      "\n"
     ]
    }
   ],
   "source": [
    "from qdrant_client import models\n",
    "from tqdm import tqdm\n",
    "\n",
    "# Function to insert product embeddings to Qdrant\n",
    "def insert_products_to_qdrant(product_embeddings):\n",
    "    for embedding in tqdm(product_embeddings):\n",
    "        product = embedding[\"product\"]\n",
    "        dense_vector = embedding[\"dense_vector\"]\n",
    "        colbert_vectors = embedding[\"colbert_vectors\"]\n",
    "        sparse_data = embedding[\"sparse_weights\"]\n",
    "\n",
    "        qdrant_sparse = create_sparse_vector(sparse_data)\n",
    "        \n",
    "        client.upsert(\n",
    "            collection_name=\"products\",\n",
    "            points=[\n",
    "                models.PointStruct(\n",
    "                    id=product[\"Id\"],\n",
    "                    payload=product,\n",
    "                    vector={\n",
    "                        \"dense\": dense_vector,\n",
    "                        \"colbert\": colbert_vectors,\n",
    "                        \"sparse\": qdrant_sparse\n",
    "                    }\n",
    "                )\n",
    "            ]\n",
    "        )\n",
    "    \n",
    "    print(f\"Successfully inserted {len(product_embeddings)} products into the 'products' collection\")\n",
    "\n",
    "insert_products_to_qdrant(all_product_embeddings)"
   ]
  },
  {
   "cell_type": "markdown",
   "id": "c38f456b",
   "metadata": {},
   "source": [
    "## Step 8: Retrieve & re-rank based on search query"
   ]
  },
  {
   "cell_type": "code",
   "execution_count": 38,
   "id": "686d969b",
   "metadata": {},
   "outputs": [],
   "source": [
    "def search_products(search_query, limit=3, prefetch_limit=6):\n",
    "    query_outputs = model.encode(\n",
    "        [search_query],\n",
    "        return_dense=True,\n",
    "        return_sparse=True,\n",
    "        return_colbert_vecs=True\n",
    "    )\n",
    "    \n",
    "    dense_vec = query_outputs[\"dense_vecs\"][0]\n",
    "    sparse_vec = query_outputs[\"lexical_weights\"][0]\n",
    "    colbert_vec = query_outputs[\"colbert_vecs\"][0]\n",
    "    \n",
    "    qdrant_sparse = create_sparse_vector(sparse_vec)\n",
    "    \n",
    "    # Set up prefetch for hybrid search\n",
    "    prefetch = [\n",
    "        models.Prefetch(\n",
    "            query=qdrant_sparse,\n",
    "            using=\"sparse\",\n",
    "            limit=prefetch_limit),\n",
    "        models.Prefetch(\n",
    "            query=dense_vec,\n",
    "            using=\"dense\",\n",
    "            limit=prefetch_limit)\n",
    "    ]\n",
    "    \n",
    "    # Perform reranking with ColBERT\n",
    "    results = client.query_points(\n",
    "        \"products\",\n",
    "        prefetch=prefetch,\n",
    "        query=colbert_vec,\n",
    "        using=\"colbert\",\n",
    "        with_payload=True,\n",
    "        limit=limit,\n",
    "    )\n",
    "    \n",
    "    return results"
   ]
  },
  {
   "cell_type": "markdown",
   "id": "7facf13d",
   "metadata": {},
   "source": [
    "### Function to display search results"
   ]
  },
  {
   "cell_type": "code",
   "execution_count": 46,
   "id": "625beff7",
   "metadata": {},
   "outputs": [],
   "source": [
    "def display_search_results(results):\n",
    "    print(f\"Found {len(results.points)} matching products\")\n",
    "    print(\"-\" * 40)\n",
    "    \n",
    "    for i, result in enumerate(results.points):    \n",
    "        product = result.payload\n",
    "        print(f\"{i+1}. {product['Name']} - Score: {result.score:.2f}\")\n",
    "        print(f\"   Price: {product['Price']} {product['PriceCurrency']}\")\n",
    "        \n",
    "        # Truncate description if too long\n",
    "        description = product.get('Description', '')\n",
    "        if description and len(description) > 100:\n",
    "            description = description[:97] + \"...\"\n",
    "        \n",
    "        if description:\n",
    "            print(f\"   {description}\")\n",
    "        print()"
   ]
  },
  {
   "cell_type": "markdown",
   "id": "b46d0414",
   "metadata": {},
   "source": [
    "### A few examples"
   ]
  },
  {
   "cell_type": "code",
   "execution_count": 47,
   "id": "a6630875",
   "metadata": {},
   "outputs": [
    {
     "name": "stdout",
     "output_type": "stream",
     "text": [
      "Found 3 matching products\n",
      "----------------------------------------\n",
      "1. adidas Men's Ultraboost Personal Best Running Shoe - Score: 3.76\n",
      "   Price: 626.1 USD\n",
      "   Men's shoes - low (non football).\n",
      "\n",
      "2. adidas Men's Racer Tr21 Running Shoe - Score: 3.51\n",
      "   Price: 413.1 EUR\n",
      "   Everyday style with a running twist. These men's adidas sneakers have a Cloudfoam midsole for ste...\n",
      "\n",
      "3. Under Armour Men's Charged Assert 9 Running Shoe - Score: 3.49\n",
      "   Price: 434.94 USD\n",
      "   These running shoes are built to help anyone go faster-Charged Cushioning® helps protect against ...\n",
      "\n"
     ]
    }
   ],
   "source": [
    "result = search_products(\"running shoes for men\")\n",
    "\n",
    "display_search_results(result)\n"
   ]
  },
  {
   "cell_type": "code",
   "execution_count": 48,
   "id": "0e78a15a",
   "metadata": {},
   "outputs": [
    {
     "name": "stdout",
     "output_type": "stream",
     "text": [
      "Found 3 matching products\n",
      "----------------------------------------\n",
      "1. Nintendo Switch OLED Model - Score: 2.41\n",
      "   Price: 349.99 USD\n",
      "   The Nintendo Switch OLED Model offers a vivid 7-inch OLED display and enhanced audio for portable...\n",
      "\n",
      "2. NZND Case for At&t Motivate 3 (3rd Version)/ Motivate 2 (2nd)/ Cricket Icon 3/ Cricket Splendor with Tempered Glass Screen Protector, Ring Holder/Wrist Strap, Glitter Liquid Cute Case (Pink/Aqua) - Score: 2.10\n",
      "   Price: 84.09 USD\n",
      "   NZND Glitter Flowing Liquid Floating Gradient Colorful with Sparkling Bling Diamond, Durable Girl...\n",
      "\n",
      "3. Samsung 980 PRO 1TB NVMe M.2 SSD - Score: 1.97\n",
      "   Price: 149.99 USD\n",
      "   The Samsung 980 PRO offers lightning-fast read and write speeds, ideal for high-performance gamin...\n",
      "\n"
     ]
    }
   ],
   "source": [
    "result = search_products(\"nintendo\")\n",
    "\n",
    "display_search_results(result)"
   ]
  },
  {
   "cell_type": "code",
   "execution_count": 49,
   "id": "53ef877d",
   "metadata": {},
   "outputs": [
    {
     "name": "stdout",
     "output_type": "stream",
     "text": [
      "Found 3 matching products\n",
      "----------------------------------------\n",
      "1. PowerA Advantage Wired Controller for Xbox Series X|S with Lumectra + RGB LED Strip - Black, gamepad, wired video game controller, gaming controller, works with Xbox One and Windows 10/11, Officially Licensed for Xbox - Score: 3.36\n",
      "   Price: 473.73 EUR\n",
      "   Illuminate the possibilities with the PowerA Advantage Wired Controller for Xbox Series X|S with ...\n",
      "\n",
      "2. Microsoft Xbox Series X - Score: 2.79\n",
      "   Price: 499.99 USD\n",
      "   The Microsoft Xbox Series X offers powerful gaming performance with 4K resolution, lightning-fast...\n",
      "\n",
      "3. Microsoft Xbox Series X - Score: 2.74\n",
      "   Price: 499.99 USD\n",
      "   The Xbox Series X is a powerful next-gen gaming console with 4K UHD resolution, fast loading spee...\n",
      "\n"
     ]
    }
   ],
   "source": [
    "result = search_products(\"xbox gamepad\")\n",
    "\n",
    "display_search_results(result)"
   ]
  },
  {
   "cell_type": "code",
   "execution_count": 51,
   "id": "43e8ca41",
   "metadata": {},
   "outputs": [
    {
     "name": "stdout",
     "output_type": "stream",
     "text": [
      "Found 3 matching products\n",
      "----------------------------------------\n",
      "1. Samsung Galaxy S22 Ultra - Score: 2.96\n",
      "   Price: 1199.99 USD\n",
      "   The Samsung Galaxy S22 Ultra features a 108MP camera, 5G support, and a large AMOLED display, off...\n",
      "\n",
      "2. Samsung Galaxy S22 5G - Score: 2.91\n",
      "   Price: 799.99 USD\n",
      "   The Samsung Galaxy S22 5G features a dynamic AMOLED display, advanced cameras, and 5G capabilitie...\n",
      "\n",
      "3. Samsung Galaxy S21 Ultra | Factory Unlocked Android Cell Phone | US Version 5G Smartphone | Pro-Grade Camera, 8K Video, 108MP High Res | 128GB, Phantom Black (SM-G998UZKAXAA) (Renewed) - Score: 2.28\n",
      "   Price: 348.47 USD\n",
      "   Pro Grade Camera Zoom in close, take photos and videos like a pro, and capture incredible share-r...\n",
      "\n"
     ]
    }
   ],
   "source": [
    "result = search_products(\"samsung s22\")\n",
    "\n",
    "display_search_results(result)"
   ]
  }
 ],
 "metadata": {
  "kernelspec": {
   "display_name": "Python 3",
   "language": "python",
   "name": "python3"
  },
  "language_info": {
   "codemirror_mode": {
    "name": "ipython",
    "version": 3
   },
   "file_extension": ".py",
   "mimetype": "text/x-python",
   "name": "python",
   "nbconvert_exporter": "python",
   "pygments_lexer": "ipython3",
   "version": "3.9.6"
  }
 },
 "nbformat": 4,
 "nbformat_minor": 5
}
