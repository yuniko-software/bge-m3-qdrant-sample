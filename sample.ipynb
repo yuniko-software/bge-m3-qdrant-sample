{
 "cells": [
  {
   "cell_type": "markdown",
   "id": "fe8c6857",
   "metadata": {},
   "source": [
    "## Step 1: Pull and Run Qdrant Docker Image"
   ]
  },
  {
   "cell_type": "code",
   "execution_count": null,
   "id": "91a2f7b6",
   "metadata": {},
   "outputs": [],
   "source": [
    "!docker run -d --name qdrant-db -p 6333:6333 -p 6334:6334 qdrant/qdrant:latest"
   ]
  },
  {
   "cell_type": "markdown",
   "id": "0481b2e9",
   "metadata": {},
   "source": [
    "## Step 2: Install Required Python Packages"
   ]
  },
  {
   "cell_type": "code",
   "execution_count": null,
   "id": "9554b374",
   "metadata": {},
   "outputs": [],
   "source": [
    "%pip install -U transformers FlagEmbedding accelerate\n",
    "%pip install pandas"
   ]
  },
  {
   "cell_type": "markdown",
   "id": "c16dcb3c",
   "metadata": {},
   "source": [
    "## Step 3: Load Products Dataset"
   ]
  },
  {
   "cell_type": "code",
   "execution_count": 13,
   "id": "ac1a6ab6",
   "metadata": {},
   "outputs": [
    {
     "name": "stdout",
     "output_type": "stream",
     "text": [
      "{\n",
      "  \"Id\": \"d2559c95-bd28-49d8-b53a-538c34a25bcb\",\n",
      "  \"Name\": \"Saucony Men's Kinvara 13 Running Shoe\",\n",
      "  \"Description\": \"When it comes to lightweight speed, nothing crushes the competition like the Kinvara. And this just so happens to be our lightest one yet. With more speed contouring and its signature flexible feel, it pushes you forward without holding anything back. These are the shoes you\\u2019ll do big things in.\",\n",
      "  \"Price\": 600.93,\n",
      "  \"PriceCurrency\": \"USD\",\n",
      "  \"SupplyAbility\": 396,\n",
      "  \"MinimumOrder\": 574\n",
      "}\n",
      "Total products: 751\n"
     ]
    }
   ],
   "source": [
    "import pandas as pd\n",
    "import json\n",
    "\n",
    "# Load the product dataset\n",
    "products_df = pd.read_csv('products.csv', sep='|')\n",
    "\n",
    "# Convert dataframe to list of dictionaries (JSON format)\n",
    "products_json = products_df.to_dict(orient='records')\n",
    "\n",
    "# Print the first product as JSON\n",
    "print(json.dumps(products_json[0], indent=2))\n",
    "\n",
    "# Print total number of products\n",
    "print(f\"Total products: {len(products_json)}\")"
   ]
  },
  {
   "cell_type": "markdown",
   "id": "0c171627",
   "metadata": {},
   "source": [
    "## Step 4: Initialize the BGE-M3 model"
   ]
  },
  {
   "cell_type": "code",
   "execution_count": 15,
   "id": "6b6d1061",
   "metadata": {},
   "outputs": [
    {
     "data": {
      "application/vnd.jupyter.widget-view+json": {
       "model_id": "c9f4dc06a5a9429cb99cddd24bc2b231",
       "version_major": 2,
       "version_minor": 0
      },
      "text/plain": [
       "Fetching 30 files:   0%|          | 0/30 [00:00<?, ?it/s]"
      ]
     },
     "metadata": {},
     "output_type": "display_data"
    }
   ],
   "source": [
    "from FlagEmbedding import BGEM3FlagModel\n",
    "\n",
    "model = BGEM3FlagModel('BAAI/bge-m3', use_fp16=True)"
   ]
  },
  {
   "cell_type": "markdown",
   "id": "bf0becaf",
   "metadata": {},
   "source": [
    "## Step 5: Calculate Embeddings for Product"
   ]
  },
  {
   "cell_type": "code",
   "execution_count": 37,
   "id": "d8948d84",
   "metadata": {},
   "outputs": [
    {
     "name": "stdout",
     "output_type": "stream",
     "text": [
      "\n",
      "Formatted product text:\n",
      "Product: Saucony Men's Kinvara 13 Running Shoe\n",
      "Description: When it comes to lightweight speed, nothing crushes the competition like the Kinvara. And this just so happens to be our lightest one yet. With more speed contouring and its signature flexible feel, it pushes you forward without holding anything back. These are the shoes you’ll do big things in.\n"
     ]
    }
   ],
   "source": [
    "# Let's take a single product as an example\n",
    "sample_product = products_df.iloc[0]\n",
    "\n",
    "def create_product_text(product):\n",
    "    return f\"Product: {product['Name']}\\nDescription: {product['Description']}\"\n",
    "\n",
    "product_text = create_product_text(sample_product)\n",
    "print(\"\\nFormatted product text:\")\n",
    "print(product_text)\n",
    "\n",
    "# Generate all three types of embeddings\n",
    "output = model.encode(\n",
    "    [product_text], \n",
    "    return_dense=True,\n",
    "    return_sparse=True,\n",
    "    return_colbert_vecs=True\n",
    ")\n",
    "\n",
    "dense_vector = output['dense_vecs'][0]\n",
    "sparse_weights = output['lexical_weights'][0]\n",
    "colbert_vectors = output['colbert_vecs'][0]"
   ]
  },
  {
   "cell_type": "markdown",
   "id": "97b7ebf1",
   "metadata": {},
   "source": [
    "### Displaying dense vectors"
   ]
  },
  {
   "cell_type": "code",
   "execution_count": null,
   "id": "e906d9e2",
   "metadata": {},
   "outputs": [
    {
     "name": "stdout",
     "output_type": "stream",
     "text": [
      "Dense vector information:\n",
      "Shape: (1024,)\n",
      "First 5 elements: [-0.02016  0.02016 -0.0438   0.02206 -0.01973]\n"
     ]
    }
   ],
   "source": [
    "print(\"Dense vector information:\")\n",
    "print(f\"Shape: {dense_vector.shape}\")\n",
    "print(f\"First 5 elements: {dense_vector[:5]}\")"
   ]
  },
  {
   "cell_type": "markdown",
   "id": "9c9f1189",
   "metadata": {},
   "source": [
    "### Displaying sparse vectors"
   ]
  },
  {
   "cell_type": "code",
   "execution_count": 38,
   "id": "6c039db2",
   "metadata": {},
   "outputs": [
    {
     "name": "stdout",
     "output_type": "stream",
     "text": [
      "Sparse vector information:\n",
      "Number of tokens with weights: 57\n",
      "\n",
      "Sample of token IDs and weights:\n",
      "  Token ID 73111: 0.1993\n",
      "  Token ID 12: 0.0215\n",
      "  Token ID 6987: 0.1790\n",
      "  Token ID 2271: 0.1504\n",
      "  Token ID 53: 0.2017\n",
      "  Token ID 1111: 0.1603\n",
      "  Token ID 25: 0.0012\n",
      "  Token ID 7: 0.0244\n",
      "  Token ID 37029: 0.1849\n",
      "  Token ID 7113: 0.3137\n",
      "\n",
      "Top 10 tokens by weight:\n",
      "  vara: 0.3137\n",
      "  shoes: 0.2365\n",
      "  13: 0.2229\n",
      "  weight: 0.2102\n",
      "  speed: 0.2094\n",
      "  y: 0.2017\n",
      "  Product: 0.1993\n",
      "  Sho: 0.1898\n",
      "  Kin: 0.1849\n",
      "  Sau: 0.1790\n"
     ]
    }
   ],
   "source": [
    "# Display sparse vector\n",
    "print(\"Sparse vector information:\")\n",
    "print(f\"Number of tokens with weights: {len(sparse_weights)}\")\n",
    "\n",
    "# Display a sample of token IDs and weights\n",
    "print(\"\\nSample of token IDs and weights:\")\n",
    "sparse_items = list(sparse_weights.items())[:10]  # First 10 items\n",
    "for token_id, weight in sparse_items:\n",
    "    print(f\"  Token ID {token_id}: {weight:.4f}\")\n",
    "\n",
    "# Convert token IDs to actual tokens and sort by weight\n",
    "token_map = model.convert_id_to_token([sparse_weights])\n",
    "sorted_tokens = sorted(token_map.items(), key=lambda x: float(x[1]), reverse=True)\n",
    "\n",
    "# Display top tokens by weight\n",
    "print(\"\\nTop 10 tokens by weight:\")\n",
    "for token, weight in sorted_tokens[:10]:\n",
    "    print(f\"  {token}: {float(weight):.4f}\")"
   ]
  },
  {
   "cell_type": "markdown",
   "id": "bf3624dc",
   "metadata": {},
   "source": [
    "### Displaying ColBERT vectors"
   ]
  },
  {
   "cell_type": "code",
   "execution_count": 39,
   "id": "8c397bad",
   "metadata": {},
   "outputs": [
    {
     "name": "stdout",
     "output_type": "stream",
     "text": [
      "ColBERT vectors information:\n",
      "Shape: (82, 1024)\n",
      "Number of token vectors: 82\n",
      "Vector dimension: 1024\n",
      "\n",
      "Sample of first 5 token vectors (first 3 dimensions each):\n",
      "  Vector 0: [-0.015277110040187836, -0.05877283960580826, 0.0036948397755622864]\n",
      "  Vector 1: [-0.035025328397750854, -0.05892220884561539, -0.020987864583730698]\n",
      "  Vector 2: [-0.00875769555568695, -0.03164244443178177, -0.007193501573055983]\n",
      "  Vector 3: [-0.04171895608305931, -0.015494350343942642, -0.004048152826726437]\n",
      "  Vector 4: [-0.052237991243600845, -0.007237554062157869, 0.0014343017246574163]\n"
     ]
    }
   ],
   "source": [
    "# Display ColBERT vectors\n",
    "print(\"ColBERT vectors information:\")\n",
    "print(f\"Shape: {colbert_vectors.shape}\")\n",
    "print(f\"Number of token vectors: {len(colbert_vectors)}\")\n",
    "print(f\"Vector dimension: {colbert_vectors.shape[1]}\")\n",
    "\n",
    "print(\"\\nSample of first 5 token vectors (first 3 dimensions each):\")\n",
    "for i in range(min(5, len(colbert_vectors))):\n",
    "    values = colbert_vectors[i][:3].tolist() if hasattr(colbert_vectors[i][:3], 'tolist') else colbert_vectors[i][:3]\n",
    "    print(f\"  Vector {i}: {values}\")"
   ]
  }
 ],
 "metadata": {
  "kernelspec": {
   "display_name": "Python 3",
   "language": "python",
   "name": "python3"
  },
  "language_info": {
   "codemirror_mode": {
    "name": "ipython",
    "version": 3
   },
   "file_extension": ".py",
   "mimetype": "text/x-python",
   "name": "python",
   "nbconvert_exporter": "python",
   "pygments_lexer": "ipython3",
   "version": "3.9.6"
  }
 },
 "nbformat": 4,
 "nbformat_minor": 5
}
